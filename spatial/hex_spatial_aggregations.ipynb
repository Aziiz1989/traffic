{
 "cells": [
  {
   "cell_type": "code",
   "execution_count": 64,
   "metadata": {},
   "outputs": [],
   "source": [
    "import math\n",
    "import numpy as np\n",
    "import urllib\n",
    "import json\n",
    "from time import sleep\n",
    "%matplotlib inline\n",
    "import matplotlib.pylab as plt\n",
    "from h3 import h3\n",
    "import folium\n",
    "#import haversine\n",
    "import os\n",
    "import glob\n",
    "import re\n",
    "from collections import defaultdict\n",
    "import re\n",
    "import pandas as pd"
   ]
  },
  {
   "cell_type": "code",
   "execution_count": 98,
   "metadata": {},
   "outputs": [],
   "source": [
    "hexagons=[ h3.h3_to_geo_boundary(i) for i in data[\"h3_cell\"] if i!=0]"
   ]
  },
  {
   "cell_type": "code",
   "execution_count": 100,
   "metadata": {},
   "outputs": [
    {
     "data": {
      "text/plain": [
       "<folium.vector_layers.PolyLine at 0x7efd7edd04e0>"
      ]
     },
     "execution_count": 100,
     "metadata": {},
     "output_type": "execute_result"
    }
   ],
   "source": [
    "\n",
    "points_np=np.array(hexagons)\n",
    "midpoint=[24.786774, 43.504536]\n",
    "points_plotted=[i+[i[0]] for i in hexagons];\n",
    "m = folium.Map(midpoint,tiles='stamenterrain', zoom_start=12)\n",
    "#folium.ColorLine(geoJson['coordinates']).add_to(m)\n",
    "#folium.features.PolyLine(poly,color='red',weight=7).add_to(m)\n",
    "folium.features.PolyLine(hexagons,weight=3).add_to(m)\n"
   ]
  },
  {
   "cell_type": "code",
   "execution_count": 45,
   "metadata": {},
   "outputs": [],
   "source": [
    "data=pd.read_csv(\"/home/fahad/data/thkaa/Accidents.csv\")"
   ]
  },
  {
   "cell_type": "code",
   "execution_count": 46,
   "metadata": {},
   "outputs": [
    {
     "data": {
      "text/plain": [
       "Index(['Unnamed: 0', 'Accident_Time', 'Accident_Date_G', 'Rno', 'Road_Type',\n",
       "       'Region', 'Road_Status', 'Weather_Status', 'Dead_Number',\n",
       "       'Injuries_Number', 'Damage_Road_Type', 'Accident_Type', 'Car',\n",
       "       'Small_Truck', 'Big_Truck', 'Other_Car', 'Driver', 'Way', 'Vehicle',\n",
       "       'Animal', 'Vehicles_Number', 'Paints', 'Eyes', 'Road_Close_Days',\n",
       "       'Road_Close_Hours', 'GEOMETRIC_RoadTYPE', 'long', 'lat'],\n",
       "      dtype='object')"
      ]
     },
     "execution_count": 46,
     "metadata": {},
     "output_type": "execute_result"
    }
   ],
   "source": [
    "data.columns"
   ]
  },
  {
   "cell_type": "code",
   "execution_count": 62,
   "metadata": {},
   "outputs": [],
   "source": [
    "def geo_hashing(row, resolution):\n",
    "    if pd.isna(row[\"lat\"]) | pd.isna(row[\"long\"]) :\n",
    "        return -1;\n",
    "    else:\n",
    "        return h3.geo_to_h3(row[\"lat\"],row[\"long\"],resolution)\n",
    "        \n",
    "data[\"h3_cell\"]=data.apply(lambda row: h3.geo_to_h3(row[\"lat\"],row[\"long\"],1) ,axis=1)"
   ]
  },
  {
   "cell_type": "code",
   "execution_count": 63,
   "metadata": {},
   "outputs": [
    {
     "data": {
      "text/plain": [
       "0        81533ffffffffff\n",
       "1        81533ffffffffff\n",
       "2        81533ffffffffff\n",
       "3        81533ffffffffff\n",
       "4        81533ffffffffff\n",
       "5        81533ffffffffff\n",
       "6        81533ffffffffff\n",
       "7        81533ffffffffff\n",
       "8        81533ffffffffff\n",
       "9                      0\n",
       "10                     0\n",
       "11       81533ffffffffff\n",
       "12       81533ffffffffff\n",
       "13                     0\n",
       "14       81533ffffffffff\n",
       "15       81533ffffffffff\n",
       "16       81533ffffffffff\n",
       "17       81533ffffffffff\n",
       "18                     0\n",
       "19       81533ffffffffff\n",
       "20                     0\n",
       "21       81533ffffffffff\n",
       "22       81533ffffffffff\n",
       "23       81533ffffffffff\n",
       "24                     0\n",
       "25                     0\n",
       "26                     0\n",
       "27       81533ffffffffff\n",
       "28                     0\n",
       "29       81533ffffffffff\n",
       "              ...       \n",
       "35986    81533ffffffffff\n",
       "35987    81533ffffffffff\n",
       "35988                  0\n",
       "35989                  0\n",
       "35990                  0\n",
       "35991    81533ffffffffff\n",
       "35992    81533ffffffffff\n",
       "35993    81533ffffffffff\n",
       "35994    81523ffffffffff\n",
       "35995    81533ffffffffff\n",
       "35996    81537ffffffffff\n",
       "35997    813e7ffffffffff\n",
       "35998    81533ffffffffff\n",
       "35999                  0\n",
       "36000    81523ffffffffff\n",
       "36001    81533ffffffffff\n",
       "36002    813e7ffffffffff\n",
       "36003    81533ffffffffff\n",
       "36004    81533ffffffffff\n",
       "36005                  0\n",
       "36006    81523ffffffffff\n",
       "36007    81523ffffffffff\n",
       "36008                  0\n",
       "36009                  0\n",
       "36010    81523ffffffffff\n",
       "36011    81523ffffffffff\n",
       "36012                  0\n",
       "36013                  0\n",
       "36014    81533ffffffffff\n",
       "36015    81533ffffffffff\n",
       "Name: h3_cell, Length: 36016, dtype: object"
      ]
     },
     "execution_count": 63,
     "metadata": {},
     "output_type": "execute_result"
    }
   ],
   "source": [
    "data[\"h3_cell\"]"
   ]
  }
 ],
 "metadata": {
  "kernelspec": {
   "display_name": "Python 3",
   "language": "python",
   "name": "python3"
  },
  "language_info": {
   "codemirror_mode": {
    "name": "ipython",
    "version": 3
   },
   "file_extension": ".py",
   "mimetype": "text/x-python",
   "name": "python",
   "nbconvert_exporter": "python",
   "pygments_lexer": "ipython3",
   "version": "3.6.8"
  }
 },
 "nbformat": 4,
 "nbformat_minor": 2
}
